{
 "cells": [
  {
   "cell_type": "code",
   "execution_count": null,
   "id": "eaf26f89-4baf-4568-b9b8-6fdb0568dc81",
   "metadata": {},
   "outputs": [
    {
     "name": "stdout",
     "output_type": "stream",
     "text": [
      "How many different stocks do you own?  2\n",
      "Enter stock symbol (e.g., AAPL):  AAPL\n",
      "Enter quantity of AAPL:  1\n"
     ]
    },
    {
     "name": "stdout",
     "output_type": "stream",
     "text": [
      "AAPL: 1 x $180 = $180\n"
     ]
    },
    {
     "name": "stdout",
     "output_type": "stream",
     "text": [
      "Enter stock symbol (e.g., AAPL):  AAPL\n",
      "Enter quantity of AAPL:  2\n"
     ]
    },
    {
     "name": "stdout",
     "output_type": "stream",
     "text": [
      "AAPL: 2 x $180 = $360\n",
      "\n",
      "Total Investment Value: $540\n"
     ]
    },
    {
     "name": "stdout",
     "output_type": "stream",
     "text": [
      "Do you want to save the result to a file? (yes/no):  yes\n"
     ]
    },
    {
     "name": "stdout",
     "output_type": "stream",
     "text": [
      "Result saved to investment_summary.txt\n"
     ]
    }
   ],
   "source": [
    "stock_prices = {\n",
    "    \"AAPL\": 180,\n",
    "    \"TSLA\": 250,\n",
    "    \"GOOGL\": 135,\n",
    "    \"MSFT\": 320,\n",
    "    \"AMZN\": 125\n",
    "}\n",
    "\n",
    "num_stocks = int(input(\"How many different stocks do you own? \"))\n",
    "total_investment = 0\n",
    "\n",
    "for _ in range(num_stocks):\n",
    "    stock = input(\"Enter stock symbol (e.g., AAPL): \").upper()\n",
    "    quantity = int(input(f\"Enter quantity of {stock}: \"))\n",
    "\n",
    "    if stock in stock_prices:\n",
    "        investment = stock_prices[stock] * quantity\n",
    "        total_investment += investment\n",
    "        print(f\"{stock}: {quantity} x ${stock_prices[stock]} = ${investment}\")\n",
    "    else:\n",
    "        print(f\"{stock} is not in the predefined stock list.\")\n",
    "\n",
    "print(f\"\\nTotal Investment Value: ${total_investment}\")\n",
    "\n",
    "save = input(\"Do you want to save the result to a file? (yes/no): \").lower()\n",
    "if save == 'yes':\n",
    "    with open(\"investment_summary.txt\", \"w\") as file:\n",
    "        file.write(f\"Total Investment Value: ${total_investment}\\n\")\n",
    "    print(\"Result saved to investment_summary.txt\")\n"
   ]
  },
  {
   "cell_type": "code",
   "execution_count": null,
   "id": "331fc0ba-e2ba-4817-b66d-c045786c4e33",
   "metadata": {},
   "outputs": [],
   "source": []
  }
 ],
 "metadata": {
  "kernelspec": {
   "display_name": "Python 3 (ipykernel)",
   "language": "python",
   "name": "python3"
  },
  "language_info": {
   "codemirror_mode": {
    "name": "ipython",
    "version": 3
   },
   "file_extension": ".py",
   "mimetype": "text/x-python",
   "name": "python",
   "nbconvert_exporter": "python",
   "pygments_lexer": "ipython3",
   "version": "3.12.7"
  }
 },
 "nbformat": 4,
 "nbformat_minor": 5
}
