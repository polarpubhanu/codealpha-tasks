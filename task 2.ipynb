{
 "cells": [
  {
   "cell_type": "code",
   "execution_count": null,
   "id": "e1346447-6e68-4cb5-9793-30319701497d",
   "metadata": {},
   "outputs": [
    {
     "name": "stdout",
     "output_type": "stream",
     "text": [
      "\n",
      "Word: _ _ _ _ _\n",
      "Used letters: \n"
     ]
    },
    {
     "name": "stdout",
     "output_type": "stream",
     "text": [
      "Guess a letter:  a\n"
     ]
    },
    {
     "name": "stdout",
     "output_type": "stream",
     "text": [
      "Correct!\n",
      "\n",
      "Word: a _ _ _ _\n",
      "Used letters: a\n"
     ]
    },
    {
     "name": "stdout",
     "output_type": "stream",
     "text": [
      "Guess a letter:  b\n"
     ]
    },
    {
     "name": "stdout",
     "output_type": "stream",
     "text": [
      "Wrong! Attempts left: 5\n",
      "\n",
      "Word: a _ _ _ _\n",
      "Used letters: a, b\n"
     ]
    },
    {
     "name": "stdout",
     "output_type": "stream",
     "text": [
      "Guess a letter:  c\n"
     ]
    },
    {
     "name": "stdout",
     "output_type": "stream",
     "text": [
      "Wrong! Attempts left: 4\n",
      "\n",
      "Word: a _ _ _ _\n",
      "Used letters: a, b, c\n"
     ]
    },
    {
     "name": "stdout",
     "output_type": "stream",
     "text": [
      "Guess a letter:  d\n"
     ]
    },
    {
     "name": "stdout",
     "output_type": "stream",
     "text": [
      "Wrong! Attempts left: 3\n",
      "\n",
      "Word: a _ _ _ _\n",
      "Used letters: a, b, c, d\n"
     ]
    },
    {
     "name": "stdout",
     "output_type": "stream",
     "text": [
      "Guess a letter:  e\n"
     ]
    },
    {
     "name": "stdout",
     "output_type": "stream",
     "text": [
      "Correct!\n",
      "\n",
      "Word: a _ _ _ e\n",
      "Used letters: a, b, c, d, e\n"
     ]
    },
    {
     "name": "stdout",
     "output_type": "stream",
     "text": [
      "Guess a letter:  a\n"
     ]
    },
    {
     "name": "stdout",
     "output_type": "stream",
     "text": [
      "You already guessed that letter.\n",
      "\n",
      "Word: a _ _ _ e\n",
      "Used letters: a, b, c, d, e\n"
     ]
    },
    {
     "name": "stdout",
     "output_type": "stream",
     "text": [
      "Guess a letter:  e\n"
     ]
    },
    {
     "name": "stdout",
     "output_type": "stream",
     "text": [
      "You already guessed that letter.\n",
      "\n",
      "Word: a _ _ _ e\n",
      "Used letters: a, b, c, d, e\n"
     ]
    },
    {
     "name": "stdout",
     "output_type": "stream",
     "text": [
      "Guess a letter:  f\n"
     ]
    },
    {
     "name": "stdout",
     "output_type": "stream",
     "text": [
      "Wrong! Attempts left: 2\n",
      "\n",
      "Word: a _ _ _ e\n",
      "Used letters: a, b, c, d, e, f\n"
     ]
    }
   ],
   "source": [
    "import random\n",
    "\n",
    "words = [\"apple\", \"robot\", \"tiger\", \"table\", \"house\"]\n",
    "word = random.choice(words)\n",
    "guessed = [\"_\"] * len(word)\n",
    "attempts = 6\n",
    "used_letters = []\n",
    "\n",
    "while attempts > 0 and \"_\" in guessed:\n",
    "    print(\"\\nWord:\", \" \".join(guessed))\n",
    "    print(\"Used letters:\", \", \".join(used_letters))\n",
    "    guess = input(\"Guess a letter: \").lower()\n",
    "\n",
    "    if guess in used_letters:\n",
    "        print(\"You already guessed that letter.\")\n",
    "        continue\n",
    "\n",
    "    used_letters.append(guess)\n",
    "\n",
    "    if guess in word:\n",
    "        for i in range(len(word)):\n",
    "            if word[i] == guess:\n",
    "                guessed[i] = guess\n",
    "        print(\"Correct!\")\n",
    "    else:\n",
    "        attempts -= 1\n",
    "        print(f\"Wrong! Attempts left: {attempts}\")\n",
    "\n",
    "if \"_\" not in guessed:\n",
    "    print(\"\\nCongratulations! You guessed the word:\", word)\n",
    "else:\n",
    "    print(\"\\nYou ran out of attempts. The word was:\", word)\n"
   ]
  },
  {
   "cell_type": "code",
   "execution_count": null,
   "id": "5b387ae3-5001-461a-bc31-62cd5b4a9ed4",
   "metadata": {},
   "outputs": [],
   "source": []
  }
 ],
 "metadata": {
  "kernelspec": {
   "display_name": "Python 3 (ipykernel)",
   "language": "python",
   "name": "python3"
  },
  "language_info": {
   "codemirror_mode": {
    "name": "ipython",
    "version": 3
   },
   "file_extension": ".py",
   "mimetype": "text/x-python",
   "name": "python",
   "nbconvert_exporter": "python",
   "pygments_lexer": "ipython3",
   "version": "3.12.7"
  }
 },
 "nbformat": 4,
 "nbformat_minor": 5
}
