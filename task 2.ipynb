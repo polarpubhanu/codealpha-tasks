{
 "cells": [
  {
   "cell_type": "code",
   "execution_count": 1,
   "id": "e1346447-6e68-4cb5-9793-30319701497d",
   "metadata": {},
   "outputs": [
    {
     "name": "stdout",
     "output_type": "stream",
     "text": [
      "Welcome to Hangman!\n",
      "Guess the word, one letter at a time.\n",
      "You have 6 incorrect guesses.\n",
      "\n",
      "Word: _ _ _ _ _\n",
      "Wrong guess. You have 5 attempts left.\n",
      "\n",
      "Word: _ _ _ _ _\n",
      "Wrong guess. You have 4 attempts left.\n",
      "\n",
      "Word: _ _ _ _ _\n",
      "Wrong guess. You have 3 attempts left.\n",
      "\n",
      "Word: _ _ _ _ _\n",
      "Please enter a single valid letter.\n",
      "\n",
      "Word: _ _ _ _ _\n",
      "Wrong guess. You have 2 attempts left.\n",
      "\n",
      "Word: _ _ _ _ _\n",
      "Wrong guess. You have 1 attempts left.\n",
      "\n",
      "Word: _ _ _ _ _\n",
      "Wrong guess. You have 0 attempts left.\n",
      "\n",
      "Game Over! The word was: apple\n"
     ]
    }
   ],
   "source": [
    "import random\n",
    "word_list = ['apple', 'tiger', 'plane', 'chair', 'grape']\n",
    "chosen_word = random.choice(word_list)\n",
    "guessed_word = ['_'] * len(chosen_word)\n",
    "guessed_letters = []\n",
    "max_attempts = 6\n",
    "attempts = 0\n",
    "\n",
    "print(\"Welcome to Hangman!\")\n",
    "print(\"Guess the word, one letter at a time.\")\n",
    "print(\"You have 6 incorrect guesses.\\n\")\n",
    "\n",
    "while attempts < max_attempts and '_' in guessed_word:\n",
    "    print(\"Word:\", ' '.join(guessed_word))\n",
    "    guess = input(\"Enter a letter: \").lower()\n",
    "\n",
    "    if not guess.isalpha() or len(guess) != 1:\n",
    "        print(\"Please enter a single valid letter.\\n\")\n",
    "        continue\n",
    "\n",
    "    if guess in guessed_letters:\n",
    "        print(\"You already guessed that letter. Try again.\\n\")\n",
    "        continue\n",
    "\n",
    "    guessed_letters.append(guess)\n",
    "\n",
    "    if guess in chosen_word:\n",
    "        for idx, char in enumerate(chosen_word):\n",
    "            if char == guess:\n",
    "                guessed_word[idx\n",
    "                             ] = guess\n",
    "        print(\"Good guess!\\n\")\n",
    "    else:\n",
    "        attempts += 1\n",
    "        print(f\"Wrong guess. You have {max_attempts - attempts} attempts left.\\n\")\n",
    "\n",
    "if '_' not in guessed_word:\n",
    "    print(\"Congratulations! You guessed the word:\", chosen_word)\n",
    "else:\n",
    "    print(\"Game Over! The word was:\", chosen_word)"
   ]
  },
  {
   "cell_type": "code",
   "execution_count": null,
   "id": "5b387ae3-5001-461a-bc31-62cd5b4a9ed4",
   "metadata": {},
   "outputs": [],
   "source": []
  }
 ],
 "metadata": {
  "kernelspec": {
   "display_name": "base",
   "language": "python",
   "name": "python3"
  },
  "language_info": {
   "codemirror_mode": {
    "name": "ipython",
    "version": 3
   },
   "file_extension": ".py",
   "mimetype": "text/x-python",
   "name": "python",
   "nbconvert_exporter": "python",
   "pygments_lexer": "ipython3",
   "version": "3.12.7"
  }
 },
 "nbformat": 4,
 "nbformat_minor": 5
}
